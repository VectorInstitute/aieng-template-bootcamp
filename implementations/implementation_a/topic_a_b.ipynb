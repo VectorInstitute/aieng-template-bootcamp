{
 "cells": [
  {
   "cell_type": "markdown",
   "id": "fdd2328b-83cf-4d4c-ba15-ae061bcb3748",
   "metadata": {},
   "source": [
    "# Topic B"
   ]
  }
 ],
 "metadata": {
  "kernelspec": {
   "display_name": "Python 3 (ipykernel)",
   "language": "python",
   "name": "python3"
  },
  "language_info": {
   "codemirror_mode": {
    "name": "ipython",
    "version": 3
   },
   "file_extension": ".py",
   "mimetype": "text/x-python",
   "name": "python",
   "nbconvert_exporter": "python",
   "pygments_lexer": "ipython3",
   "version": "3.12.8"
  }
 },
 "nbformat": 4,
 "nbformat_minor": 5
}
